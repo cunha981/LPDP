{
 "cells": [
  {
   "cell_type": "code",
   "execution_count": 2,
   "metadata": {
    "collapsed": false
   },
   "outputs": [
    {
     "name": "stdout",
     "output_type": "stream",
     "text": [
      "Co of A\n",
      "Pa of A\n",
      "Es of A\n",
      "Ou of A\n",
      "Co of 2\n",
      "Pa of 2\n",
      "Es of 2\n",
      "Ou of 2\n",
      "Co of 3\n",
      "Pa of 3\n",
      "Es of 3\n",
      "Ou of 3\n",
      "Co of 4\n",
      "Pa of 4\n",
      "Es of 4\n",
      "Ou of 4\n",
      "Co of 5\n",
      "Pa of 5\n",
      "Es of 5\n",
      "Ou of 5\n",
      "Co of 6\n",
      "Pa of 6\n",
      "Es of 6\n",
      "Ou of 6\n",
      "Co of 7\n",
      "Pa of 7\n",
      "Es of 7\n",
      "Ou of 7\n",
      "Co of 8\n",
      "Pa of 8\n",
      "Es of 8\n",
      "Ou of 8\n",
      "Co of 9\n",
      "Pa of 9\n",
      "Es of 9\n",
      "Ou of 9\n",
      "Co of 10\n",
      "Pa of 10\n",
      "Es of 10\n",
      "Ou of 10\n",
      "Co of J\n",
      "Pa of J\n",
      "Es of J\n",
      "Ou of J\n",
      "Co of Q\n",
      "Pa of Q\n",
      "Es of Q\n",
      "Ou of Q\n",
      "Co of K\n",
      "Pa of K\n",
      "Es of K\n",
      "Ou of K\n"
     ]
    }
   ],
   "source": [
    "import random\n",
    "\n",
    "class Card:\n",
    "    \n",
    "    def __init__(self, valor, naipe):\n",
    "        self.valor = valor\n",
    "        self.naipe = naipe\n",
    "        \n",
    "    valores = ['A','2','3','4','5','6','7','8','9','10','J','Q','K']\n",
    "    naipes = ['Copas','Paus','Espada','Ouros']\n",
    "\n",
    "class Deck:\n",
    "    \n",
    "    def __init__(self):\n",
    "        self.cards = []\n",
    "        for v in Card.valores:\n",
    "            for n in Card.naipes:\n",
    "                self.cards.append(n + ' de ' + v)\n",
    "                \n",
    "d = Deck()\n",
    "for x in d.cards:\n",
    "    print(x)\n",
    "        \n",
    "    \n",
    "        \n",
    "    "
   ]
  }
 ],
 "metadata": {
  "kernelspec": {
   "display_name": "Python 3",
   "language": "python",
   "name": "python3"
  },
  "language_info": {
   "codemirror_mode": {
    "name": "ipython",
    "version": 3
   },
   "file_extension": ".py",
   "mimetype": "text/x-python",
   "name": "python",
   "nbconvert_exporter": "python",
   "pygments_lexer": "ipython3",
   "version": "3.6.0"
  }
 },
 "nbformat": 4,
 "nbformat_minor": 2
}
